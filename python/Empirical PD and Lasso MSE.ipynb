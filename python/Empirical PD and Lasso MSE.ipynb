{
 "cells": [
  {
   "cell_type": "markdown",
   "metadata": {
    "toc": "true"
   },
   "source": [
    "# Table of Contents\n",
    " <p><div class=\"lev1 toc-item\"><a href=\"#Package-imports\" data-toc-modified-id=\"Package-imports-1\"><span class=\"toc-item-num\">1&nbsp;&nbsp;</span>Package imports</a></div><div class=\"lev2 toc-item\"><a href=\"#Import-spgl1\" data-toc-modified-id=\"Import-spgl1-11\"><span class=\"toc-item-num\">1.1&nbsp;&nbsp;</span>Import <code>spgl1</code></a></div><div class=\"lev2 toc-item\"><a href=\"#Garbage-collection\" data-toc-modified-id=\"Garbage-collection-12\"><span class=\"toc-item-num\">1.2&nbsp;&nbsp;</span>Garbage collection</a></div><div class=\"lev1 toc-item\"><a href=\"#Plotting-data-from-Proximal-Denoising\" data-toc-modified-id=\"Plotting-data-from-Proximal-Denoising-2\"><span class=\"toc-item-num\">2&nbsp;&nbsp;</span>Plotting data from Proximal Denoising</a></div><div class=\"lev2 toc-item\"><a href=\"#Plotting-noise-scaling\" data-toc-modified-id=\"Plotting-noise-scaling-21\"><span class=\"toc-item-num\">2.1&nbsp;&nbsp;</span>Plotting noise scaling</a></div><div class=\"lev2 toc-item\"><a href=\"#Re-doing-figures\" data-toc-modified-id=\"Re-doing-figures-22\"><span class=\"toc-item-num\">2.2&nbsp;&nbsp;</span>Re-doing figures</a></div><div class=\"lev1 toc-item\"><a href=\"#MSE-as-a-function-of-sigma\" data-toc-modified-id=\"MSE-as-a-function-of-sigma-3\"><span class=\"toc-item-num\">3&nbsp;&nbsp;</span>MSE as a function of <code>sigma</code></a></div>"
   ]
  },
  {
   "cell_type": "markdown",
   "metadata": {},
   "source": [
    "# Package imports"
   ]
  },
  {
   "cell_type": "code",
   "execution_count": 1,
   "metadata": {
    "collapsed": true
   },
   "outputs": [],
   "source": [
    "import sys"
   ]
  },
  {
   "cell_type": "code",
   "execution_count": 2,
   "metadata": {
    "collapsed": false
   },
   "outputs": [
    {
     "name": "stdout",
     "output_type": "stream",
     "text": [
      "Populating the interactive namespace from numpy and matplotlib\n"
     ]
    }
   ],
   "source": [
    "%pylab inline\n",
    "import matplotlib.legend as mlegend\n",
    "import matplotlib.lines as mlines"
   ]
  },
  {
   "cell_type": "code",
   "execution_count": 3,
   "metadata": {
    "collapsed": true
   },
   "outputs": [],
   "source": [
    "import json"
   ]
  },
  {
   "cell_type": "code",
   "execution_count": 4,
   "metadata": {
    "collapsed": false
   },
   "outputs": [
    {
     "name": "stdout",
     "output_type": "stream",
     "text": [
      "Wed_Apr__5_09-38-42_2017\n"
     ]
    }
   ],
   "source": [
    "from datetime import datetime as dt\n",
    "now = dt.now().ctime()\n",
    "now = now.replace(' ', '_').replace(':', '-')\n",
    "print(now)"
   ]
  },
  {
   "cell_type": "markdown",
   "metadata": {},
   "source": [
    "## Import `spgl1`"
   ]
  },
  {
   "cell_type": "code",
   "execution_count": null,
   "metadata": {
    "collapsed": false
   },
   "outputs": [],
   "source": [
    "curdir = !pwd\n",
    "curdir = curdir[0]"
   ]
  },
  {
   "cell_type": "code",
   "execution_count": null,
   "metadata": {
    "collapsed": false
   },
   "outputs": [],
   "source": [
    "spgl1Directory = curdir+'/../SPGL1_python_port/'\n",
    "sys.path.append(spgl1Directory)"
   ]
  },
  {
   "cell_type": "code",
   "execution_count": null,
   "metadata": {
    "collapsed": false
   },
   "outputs": [],
   "source": [
    "from spgl1 import spgl1"
   ]
  },
  {
   "cell_type": "markdown",
   "metadata": {},
   "source": [
    "## Garbage collection"
   ]
  },
  {
   "cell_type": "code",
   "execution_count": 10,
   "metadata": {
    "collapsed": false
   },
   "outputs": [
    {
     "data": {
      "text/plain": [
       "0"
      ]
     },
     "execution_count": 10,
     "metadata": {},
     "output_type": "execute_result"
    }
   ],
   "source": [
    "import gc\n",
    "gc.collect()\n",
    "gc.collect()"
   ]
  },
  {
   "cell_type": "code",
   "execution_count": 19,
   "metadata": {
    "collapsed": true
   },
   "outputs": [],
   "source": [
    "plt.close('all')"
   ]
  },
  {
   "cell_type": "markdown",
   "metadata": {},
   "source": [
    "# Plotting data from Proximal Denoising"
   ]
  },
  {
   "cell_type": "code",
   "execution_count": 5,
   "metadata": {
    "collapsed": true
   },
   "outputs": [],
   "source": [
    "with open('../data/ProxDenois_7_Sat_Apr__1_15-17-55_2017.json', 'r+', encoding='utf-8') as fp:\n",
    "    pd_data = json.load(fp)"
   ]
  },
  {
   "cell_type": "code",
   "execution_count": 6,
   "metadata": {
    "collapsed": false
   },
   "outputs": [],
   "source": [
    "pd_N = np.array(pd_data['N'])\n",
    "pd_sqZ = np.array(pd_data['sqNormZ'])"
   ]
  },
  {
   "cell_type": "code",
   "execution_count": 7,
   "metadata": {
    "collapsed": false
   },
   "outputs": [],
   "source": [
    "pd = np.vstack((pd_N, pd_sqZ)).T"
   ]
  },
  {
   "cell_type": "code",
   "execution_count": 8,
   "metadata": {
    "collapsed": false
   },
   "outputs": [],
   "source": [
    "# Update font-size for axis tick labels if using savefig\n",
    "matplotlib.rcParams.update({'font.size': 20})\n",
    "fontSize = 24\n",
    "legendFontSize = 18\n",
    "\n",
    "plt.subplots(figsize=(15,15))\n",
    "\n",
    "# Plot histogram of MSE\n",
    "plt.subplot(211)\n",
    "plt.hist(pd, log=False, stacked=True, bins=np.logspace(0, 4, 25), rwidth=1,\n",
    "         color=[(0, k, .5 + k/2) for k in np.linspace(0, 1, 7)]+[(.5+k/2, 0, k) for k in np.linspace(0, 1, 7)])\n",
    "leg1_lbl1 = ['$(N, 10^'+str(j)+')$' for j in range(1,8)]\n",
    "leg1_lbl2 = ['$(\\\\|z\\\\|_2^2, 10^'+str(j)+')$' for j in range(1,8)]\n",
    "leg1_ttl = '$(\\\\sigma^2, N)$'\n",
    "leg1 = plt.legend(leg1_lbl1+leg1_lbl2, markerscale=.3, ncol=2, fontsize=legendFontSize)\n",
    "leg1.set_title(leg1_ttl)\n",
    "plt.title('Histogram of $\\\\mathbb{E} \\\\|\\\\hat x(\\\\sigma) - x\\\\|_2^2$ for $\\\\sigma^2 = N, \\\\|z\\\\|_2^2$', fontsize=fontSize)\n",
    "plt.xscale('log');\n",
    "\n",
    "# Plot MSE as a function of log(N)\n",
    "plt.subplot(212)\n",
    "# Plot the lines\n",
    "plt.plot(range(1, 8), pd_N, c=(0,.2,.8,.15));\n",
    "plt.plot(range(1, 8), pd_sqZ, c=(.8,0,.2,.1));\n",
    "# See if we can get an analytic approximation to the lines\n",
    "t = np.linspace(1, 7, 100);\n",
    "plt.plot(t, 3 * t**(2/3)*np.log(t+1), 'k--', linewidth=2)\n",
    "plt.plot(t, .8*np.exp(1.1*t), 'k-.', lw=2)\n",
    "# Make the legend\n",
    "blue_line = mlines.Line2D([], [], c=(0, .2, .8), lw=2, label='$\\\\sigma = \\\\sqrt{N}$')\n",
    "red_line = mlines.Line2D([],[], c=(.8, 0, .2), lw=2, label='$\\\\sigma = \\\\|z\\\\|_2$')\n",
    "blue_meanline = mlines.Line2D([],[], c=(0,0,0), lw=2, linestyle='-.', label='$.8 e^{1.1 N}$')\n",
    "red_meanline = mlines.Line2D([],[], c=(0,0,0), lw=2, linestyle='--', label='$3N^{2/3}\\\\log(N+1)$')\n",
    "plt.legend(handles=[blue_line, red_line, blue_meanline, red_meanline], loc=2, ncol=2, fontsize=legendFontSize)\n",
    "# Add the title and labels\n",
    "plt.title('Plot of $\\\\mathbb{E} \\\\|\\\\hat x(\\\\sigma) - x\\\\|_2^2$ for $x\\\\in \\\\mathbb{R}^{10^n}$ and $\\\\sigma^2 = N, \\\\|z\\\\|_2^2$',\n",
    "          fontsize=fontSize)\n",
    "plt.xlabel('$\\\\log\\\\,N$', fontsize=fontSize)\n",
    "# Plot on log scale\n",
    "plt.yscale('log');\n",
    "# plt.ylim(0,100);\n",
    "\n",
    "# Save figure\n",
    "plt.gcf().savefig('PD_MSE_DimScaling_'+now+'.svg', dpi=72, format='svg')\n",
    "plt.close('all')"
   ]
  },
  {
   "cell_type": "markdown",
   "metadata": {},
   "source": [
    "## Plotting noise scaling"
   ]
  },
  {
   "cell_type": "code",
   "execution_count": 9,
   "metadata": {
    "collapsed": false
   },
   "outputs": [],
   "source": [
    "logNmax = 7\n",
    "logNvec = np.array(range(1, logNmax+1))\n",
    "logNvec = np.atleast_2d(logNvec).T\n",
    "noiseNormSq = np.zeros((logNmax, 100))\n",
    "for logN in range(1, logNmax+1):\n",
    "    for k in range(100):\n",
    "        z = np.random.randn(10**logN)\n",
    "        noiseNormSq[logN-1, k] = np.dot(z,z)"
   ]
  },
  {
   "cell_type": "code",
   "execution_count": 40,
   "metadata": {
    "collapsed": false
   },
   "outputs": [],
   "source": [
    "matplotlib.rcParams.update({'font.size': 20})\n",
    "fontSize = 24\n",
    "legendFontSize = 18\n",
    "\n",
    "plt.subplots(figsize=(15,15))\n",
    "\n",
    "# # # Plot 1\n",
    "plt.subplot(211)\n",
    "plt.plot(logNvec, noiseNormSq, c='k', alpha=.1, lw=3);\n",
    "plt.plot(logNvec, 10**logNvec, linestyle='-', c=(.8, 0, .2), lw=2);\n",
    "plt.yscale('log');\n",
    "plt.title('Plot of $\\\\|z\\\\|_2^2$ for $z \\\\sim \\\\mathcal{N}(0, I_N)$')\n",
    "# legend\n",
    "black_line = mlines.Line2D([],[], c=(0,0,0), lw=2, linestyle='-', label='$z$')\n",
    "red_Nline = mlines.Line2D([],[], c=(.8,0,.2), lw=2, linestyle='-', label='$N$')\n",
    "plt.legend(handles=[black_line, red_Nline], loc=2, fontsize=18)\n",
    "\n",
    "# # # Plot 2\n",
    "plt.subplot(212)\n",
    "plt.plot(logNvec, np.abs(noiseNormSq - 10**logNvec), c='k', alpha=.1, lw=2);\n",
    "plt.plot(logNvec, 10**(logNvec/2), c=(.8,0,.2), lw=2)\n",
    "plt.yscale('log')\n",
    "plt.xlabel('$\\\\log N$');\n",
    "plt.title('Plot of $|\\\\|z\\\\|_2^2 - N|$ for $z \\\\sim \\\\mathcal{N}(0, I_N)$');\n",
    "\n",
    "red_Nline2 = mlines.Line2D([],[], c=(.8,0,.2), lw=2, linestyle='-', label='$\\\\sqrt{N}$')\n",
    "plt.legend(handles=[red_Nline2], loc=2, fontsize=18)\n",
    "\n",
    "\n",
    "#plt.savefig('mynoisefig.svg', dpi=72, format='svg')\n",
    "\n",
    "plt.gcf().savefig('normalNormDimScaling'+now+'.png', dpi=72, format='png')\n",
    "plt.close('all')"
   ]
  },
  {
   "cell_type": "markdown",
   "metadata": {},
   "source": [
    "## Re-doing figures"
   ]
  },
  {
   "cell_type": "code",
   "execution_count": 15,
   "metadata": {
    "collapsed": false
   },
   "outputs": [],
   "source": [
    "matplotlib.rcParams.update({'font.size': 20})\n",
    "fontSize = 24\n",
    "legendFontSize = 18\n",
    "\n",
    "plt.subplots(figsize=(20,8))\n",
    "\n",
    "\n",
    "# Plot MSE as a function of log(N)\n",
    "plt.subplot(121)\n",
    "# Plot the lines\n",
    "plt.plot(range(1, 8), pd_N, c=(0,.2,.8,.15));\n",
    "plt.plot(range(1, 8), pd_sqZ, c=(.8,0,.2,.1));\n",
    "# See if we can get an analytic approximation to the lines\n",
    "t = np.linspace(1, 7, 100);\n",
    "plt.plot(t, 3 * t**(2/3)*np.log(t+1), 'k--', linewidth=2)\n",
    "plt.plot(t, .8*np.exp(1.1*t), 'k-.', lw=2)\n",
    "# Make the legend\n",
    "blue_line = mlines.Line2D([], [], c=(0, .2, .8), lw=2, label='$\\\\sigma = \\\\sqrt{N}$')\n",
    "red_line = mlines.Line2D([],[], c=(.8, 0, .2), lw=2, label='$\\\\sigma = \\\\|z\\\\|_2$')\n",
    "blue_meanline = mlines.Line2D([],[], c=(0,0,0), lw=2, linestyle='-.', label='$.8 e^{1.1 N}$')\n",
    "red_meanline = mlines.Line2D([],[], c=(0,0,0), lw=2, linestyle='--', label='$3N^{2/3}\\\\log(N+1)$')\n",
    "plt.legend(handles=[blue_line, red_line, blue_meanline, red_meanline], loc=2, ncol=2, fontsize=legendFontSize)\n",
    "# Add the title and labels\n",
    "plt.title('$\\\\mathbb{E} \\\\|\\\\hat x(\\\\sigma) - x\\\\|_2^2$ for $x\\\\in \\\\mathbb{R}^{N}$, $\\\\sigma^2 = N, \\\\|z\\\\|_2^2$',\n",
    "          fontsize=fontSize)\n",
    "plt.xlabel('$\\\\log\\\\,N$', fontsize=fontSize)\n",
    "# Plot on log scale\n",
    "plt.yscale('log');\n",
    "\n",
    "\n",
    "plt.subplot(122)\n",
    "plt.plot(logNvec, noiseNormSq, c='k', alpha=.1, lw=3);\n",
    "plt.plot(logNvec, 10**logNvec, linestyle='-', c=(.8, 0, .2), lw=2);\n",
    "plt.yscale('log');\n",
    "plt.xlabel('$\\log N$', fontsize=fontSize)\n",
    "plt.title('Plot of $\\\\|z\\\\|_2^2$ for $z \\\\sim \\\\mathcal{N}(0, I_N)$')\n",
    "# legend\n",
    "black_line = mlines.Line2D([],[], c=(0,0,0), lw=2, linestyle='-', label='$z$')\n",
    "red_Nline = mlines.Line2D([],[], c=(.8,0,.2), lw=2, linestyle='-', label='$N$')\n",
    "plt.legend(handles=[black_line, red_Nline], loc=2, fontsize=18)\n",
    "\n",
    "plt.gcf().savefig('pdmsedimscalingandnoise'+now+'.png', dpi=72, format='png')\n",
    "plt.close('all')"
   ]
  },
  {
   "cell_type": "markdown",
   "metadata": {},
   "source": [
    "# MSE as a function of `sigma`"
   ]
  },
  {
   "cell_type": "code",
   "execution_count": null,
   "metadata": {
    "collapsed": true
   },
   "outputs": [],
   "source": [
    "def parseData(**data):\n",
    "    N = data.get('N')\n",
    "    s = data.get('s')\n",
    "    A = data.get('A')\n",
    "    x = data.get('x')\n",
    "    y = data.get('y')\n",
    "    z = data.get('z')\n",
    "    a = data.get('a')\n",
    "    if x is None:\n",
    "        if a is None:\n",
    "            a = 1e6\n",
    "        if s is None:\n",
    "            s = 3\n",
    "    if N is None:\n",
    "        if A is None:\n",
    "            proxD = True\n",
    "            N = x.size\n",
    "            m = N\n",
    "        else:\n",
    "            proxD = False\n",
    "            m, N = A.shape\n",
    "    elif m is None:\n",
    "        if A is None:\n",
    "            proxD = True\n",
    "            m = N\n",
    "        else:\n",
    "            proxD = False\n",
    "            m = A.shape[0]\n",
    "    elif m < N:\n",
    "        proxD = False\n",
    "        A = np.random.randn(m,N)/np.sqrt(m)\n",
    "    else:\n",
    "        raise ValueError('We don\\'t want to handle this case')\n",
    "    if x is None:\n",
    "        x = np.array([a for _ in range(s)] + \n",
    "                     [0 for _ in range(N-s)])\n",
    "    if z is None:\n",
    "        z = np.random.randn(m)\n",
    "    if y is None:\n",
    "        if proxD:\n",
    "            y = x + eta * z\n",
    "        else:\n",
    "            y = np.dot(A,x) + eta * z\n",
    "    return N, s, A, x, y, z, a"
   ]
  },
  {
   "cell_type": "code",
   "execution_count": null,
   "metadata": {
    "collapsed": true
   },
   "outputs": [],
   "source": [
    "def mse(sigma,eta=0.1,**data):\n",
    "    N, s, A, x, y, z, a = parseData(**data)\n",
    "    try:\n",
    "        len_sigma = len(sigma)\n",
    "    except TypeError as te:\n",
    "        len_sigma = 1"
   ]
  },
  {
   "cell_type": "code",
   "execution_count": null,
   "metadata": {
    "collapsed": true
   },
   "outputs": [],
   "source": []
  }
 ],
 "metadata": {
  "kernelspec": {
   "display_name": "Python 3",
   "language": "python",
   "name": "python3"
  },
  "language_info": {
   "codemirror_mode": {
    "name": "ipython",
    "version": 3
   },
   "file_extension": ".py",
   "mimetype": "text/x-python",
   "name": "python",
   "nbconvert_exporter": "python",
   "pygments_lexer": "ipython3",
   "version": "3.5.2"
  },
  "toc": {
   "nav_menu": {
    "height": "12px",
    "width": "252px"
   },
   "navigate_menu": true,
   "number_sections": true,
   "sideBar": true,
   "threshold": 4,
   "toc_cell": true,
   "toc_section_display": "block",
   "toc_window_display": false
  }
 },
 "nbformat": 4,
 "nbformat_minor": 1
}
