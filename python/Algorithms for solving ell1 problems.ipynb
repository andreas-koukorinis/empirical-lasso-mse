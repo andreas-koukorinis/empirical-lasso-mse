{
 "cells": [
  {
   "cell_type": "markdown",
   "metadata": {
    "toc": "true"
   },
   "source": [
    "# Table of Contents\n",
    " <p><div class=\"lev1 toc-item\"><a href=\"#Homotopy-solver-for-Proximal-Denoising\" data-toc-modified-id=\"Homotopy-solver-for-Proximal-Denoising-1\"><span class=\"toc-item-num\">1&nbsp;&nbsp;</span>Homotopy solver for Proximal Denoising</a></div><div class=\"lev2 toc-item\"><a href=\"#Test-runs\" data-toc-modified-id=\"Test-runs-11\"><span class=\"toc-item-num\">1.1&nbsp;&nbsp;</span>Test runs</a></div><div class=\"lev2 toc-item\"><a href=\"#Function-definitions-and-cythonification\" data-toc-modified-id=\"Function-definitions-and-cythonification-12\"><span class=\"toc-item-num\">1.2&nbsp;&nbsp;</span>Function definitions and cythonification</a></div><div class=\"lev2 toc-item\"><a href=\"#Run-testError-on-PD-problem\" data-toc-modified-id=\"Run-testError-on-PD-problem-13\"><span class=\"toc-item-num\">1.3&nbsp;&nbsp;</span>Run <code>testError</code> on PD problem</a></div><div class=\"lev2 toc-item\"><a href=\"#Plot-results\" data-toc-modified-id=\"Plot-results-14\"><span class=\"toc-item-num\">1.4&nbsp;&nbsp;</span>Plot results</a></div><div class=\"lev1 toc-item\"><a href=\"#Approximate-Message-Passing-algorithm\" data-toc-modified-id=\"Approximate-Message-Passing-algorithm-2\"><span class=\"toc-item-num\">2&nbsp;&nbsp;</span>Approximate Message Passing algorithm</a></div><div class=\"lev1 toc-item\"><a href=\"#SPGL1\" data-toc-modified-id=\"SPGL1-3\"><span class=\"toc-item-num\">3&nbsp;&nbsp;</span>SPGL1</a></div>"
   ]
  },
  {
   "cell_type": "code",
   "execution_count": 1,
   "metadata": {
    "collapsed": true
   },
   "outputs": [],
   "source": [
    "from datetime import datetime as dt"
   ]
  },
  {
   "cell_type": "code",
   "execution_count": 2,
   "metadata": {
    "collapsed": false
   },
   "outputs": [
    {
     "name": "stdout",
     "output_type": "stream",
     "text": [
      "Populating the interactive namespace from numpy and matplotlib\n"
     ]
    }
   ],
   "source": [
    "%pylab inline"
   ]
  },
  {
   "cell_type": "code",
   "execution_count": 3,
   "metadata": {
    "collapsed": true
   },
   "outputs": [],
   "source": [
    "def softhr(y,lam):\n",
    "    \"\"\"\n",
    "    softhr(y, lam) computes the soft-thresholding wrt lam of the vector y\n",
    "    and its gradient evaluated at y:\n",
    "        S(y; lam) = sgn(y) max(0, abs(y) - lam)\n",
    "        Dj(S(y; lam)) = 1 if abs(yj) > lam else 0\n",
    "    \"\"\"\n",
    "    # Returns:\n",
    "    # - soft-thresholding of y wrt lam\n",
    "    # - derivative of soft-thresholding wrt lam evaluated at y\n",
    "    ythr = np.sign(y)*np.fmax(0, np.abs(y)-lam)\n",
    "    return (ythr, (np.abs(y)>lam).astype(np.float64))"
   ]
  },
  {
   "cell_type": "markdown",
   "metadata": {},
   "source": [
    "# Homotopy solver for Proximal Denoising"
   ]
  },
  {
   "cell_type": "markdown",
   "metadata": {},
   "source": [
    "Given $\\sigma > 0$ and $y \\in \\mathbb R^N$ with $y = x + \\eta z$, we want to return $\\lambda > 0$ such that\n",
    "$$\n",
    "f(\\lambda) := \\|T_\\lambda (y) - y\\|_2^2 = \\sigma^2\n",
    "$$"
   ]
  },
  {
   "cell_type": "markdown",
   "metadata": {},
   "source": [
    "## Test runs\n",
    "\n",
    "See note on run times below...\n",
    "\n",
    "Pure python version\n",
    "```python\n",
    "range(1,4): 1 loop, best of 3: 5.58 s per loop  \n",
    "range(1,5): 1 loop, best of 3: 50.4 s per loop\n",
    "```\n",
    "Cython version:\n",
    "```python\n",
    "range(1,4): 1 loop, best of 3: 4.26 s per loop  \n",
    "range(1,5): 1 loop, best of 3: 38.9 s per loop\n",
    "```"
   ]
  },
  {
   "cell_type": "markdown",
   "metadata": {},
   "source": [
    "## Function definitions and cythonification"
   ]
  },
  {
   "cell_type": "code",
   "execution_count": 5,
   "metadata": {
    "collapsed": true
   },
   "outputs": [],
   "source": [
    "%load_ext Cython"
   ]
  },
  {
   "cell_type": "code",
   "execution_count": 6,
   "metadata": {
    "collapsed": false
   },
   "outputs": [],
   "source": [
    "%%cython\n",
    "\n",
    "import numpy as np\n",
    "cimport numpy as np\n",
    "from numpy import dot\n",
    "from libc.math cimport sqrt\n",
    "\n",
    "DBL = np.double\n",
    "ctypedef np.double_t DBL_C\n",
    "INT = np.int\n",
    "ctypedef np.int_t INT_C\n",
    "\n",
    "\n",
    "def unsort(np.ndarray[DBL_C, ndim=1] increasingVector, np.ndarray[INT_C, ndim=1] sortOrder):\n",
    "    cdef np.ndarray[DBL_C, ndim=1] unsortedVector\n",
    "    cdef INT_C idx, orderedIdx\n",
    "    unsortedVector = np.zeros(increasingVector.size)\n",
    "    for idx, orderedIdx in enumerate(sortOrder):\n",
    "        unsortedVector[orderedIdx] = increasingVector[idx]\n",
    "    return unsortedVector\n",
    "\n",
    "def HomPD(np.ndarray[DBL_C, ndim=1] y, sigmaSquared, **kwargs):\n",
    "    \"\"\"\n",
    "    Input:\n",
    "    sigmaSquared: variance\n",
    "    y: assume y is already ravelled to an np vector!\n",
    "    \"\"\"\n",
    "    cdef np.ndarray[DBL_C, ndim=1] lam, S, f, xHat\n",
    "    cdef np.ndarray[INT_C, ndim=1] y_sgn, sortOrder\n",
    "    returnLambda = kwargs.get('returnLambda', False)\n",
    "    if sigmaSquared > dot(y.T, y):\n",
    "        if returnLambda:\n",
    "            return (np.zeros(y.size), np.abs(y).max())\n",
    "        else:\n",
    "            return np.zeros(y.size)\n",
    "    y_shape = y.size # store shape before ravel\n",
    "    y_sgn = np.sign(y).astype(np.int) # store sign for later\n",
    "    y = np.abs(y) # absolute value\n",
    "    sortOrder = np.argsort(y).astype(np.int) # store seq for ++ing order\n",
    "    y = y[sortOrder] # sort y in ++ing order\n",
    "    n = y.size # num elements in y\n",
    "\n",
    "    lam = np.insert(y, 0, 0) # λ_j values\n",
    "    S = np.zeros(lam.size) # S_j values\n",
    "    f = np.zeros(lam.size) # f_j values\n",
    "\n",
    "    for j in range(1,n+1):\n",
    "        S[j] = S[j-1] + lam[j-1]**2 # previously killed\n",
    "        f[j] = (n - (j-1))*lam[j]**2 + S[j] # still active\n",
    "        if sigmaSquared < f[j]: # if σ^2 is in I_j = [f[j-1], f[j]]\n",
    "            lam_star = np.sqrt((sigmaSquared - S[j])/(n - (j-1)))\n",
    "            xHat = np.zeros(n)\n",
    "            xHat[j-1:] = (y[j-1:] - lam_star) * y_sgn[sortOrder][j-1:]\n",
    "            if returnLambda:\n",
    "                return (unsort(xHat, sortOrder).reshape(y_shape), lam_star)\n",
    "            else:\n",
    "                return unsort(xHat, sortOrder).reshape(y_shape)\n",
    "    raise Exception('Could not find interval in which sigmaSquared lies')\n",
    "\n",
    "def testError_c(INT_C n, iters=10,\n",
    "              sigmaSquared=None, \n",
    "              verbose=False):\n",
    "    if sigmaSquared is None:\n",
    "        sigmaSquared = n\n",
    "    cdef DBL_C avgSqError\n",
    "    cdef np.ndarray[DBL_C, ndim=1] x, y, z, e, xHat\n",
    "\n",
    "    x = np.zeros(n)\n",
    "    x[-1] = n\n",
    "    avgSqError = 0\n",
    "    for j in range(iters):\n",
    "        z = np.random.randn(n)\n",
    "        if sigmaSquared is 'sqNormZ':\n",
    "            z_sqNorm = np.linalg.norm(z)**2\n",
    "            sigmaSquared = z_sqNorm\n",
    "            if verbose:\n",
    "                print('||z||^2 = {}'.format(z_sqNorm))\n",
    "        elif verbose:\n",
    "            print('||z||^2 = {}'.format(np.linalg.norm(z)**2))\n",
    "        y = x + z\n",
    "        xHat = HomPD(y, sigmaSquared)\n",
    "        e = xHat - x\n",
    "        avgSqError += dot(e.T, e)\n",
    "    avgSqError /= iters\n",
    "    return avgSqError"
   ]
  },
  {
   "cell_type": "markdown",
   "metadata": {},
   "source": [
    "## Run `testError` on PD problem"
   ]
  },
  {
   "cell_type": "code",
   "execution_count": 8,
   "metadata": {
    "collapsed": true
   },
   "outputs": [],
   "source": [
    "kmax = 5"
   ]
  },
  {
   "cell_type": "code",
   "execution_count": 9,
   "metadata": {
    "collapsed": false
   },
   "outputs": [
    {
     "name": "stdout",
     "output_type": "stream",
     "text": [
      "Loop 0; length(x) = 10\n",
      "Loop 1; length(x) = 100\n",
      "Loop 2; length(x) = 1000\n",
      "Loop 3; length(x) = 10000\n"
     ]
    }
   ],
   "source": [
    "n_vec = [10**j for j in range(1, kmax)]\n",
    "testError_dimensionThreshold = np.zeros(len(n_vec))\n",
    "testError_perfectThreshold = np.zeros(len(n_vec))\n",
    "for j, n in enumerate(n_vec):\n",
    "    print('Loop {}; length(x) = {}'.format(j+1,n))\n",
    "    testError_dimensionThreshold[j] = testError_c(n, iters=1000)\n",
    "    testError_perfectThreshold[j] = testError_c(n, iters=1000, sigmaSquared=\"sqNormZ\")"
   ]
  },
  {
   "cell_type": "markdown",
   "metadata": {},
   "source": [
    "## Plot results"
   ]
  },
  {
   "cell_type": "code",
   "execution_count": 10,
   "metadata": {
    "collapsed": true
   },
   "outputs": [],
   "source": [
    "doHomPDSaveFig = 0\n",
    "doHomPDSaveText = 0"
   ]
  },
  {
   "cell_type": "code",
   "execution_count": 11,
   "metadata": {
    "collapsed": false
   },
   "outputs": [
    {
     "data": {
      "image/png": "[encoded data removed]",
      "text/plain": [
       "<matplotlib.figure.Figure at 0x108fa9160>"
      ]
     },
     "metadata": {},
     "output_type": "display_data"
    }
   ],
   "source": [
    "plt.plot(testError_dimensionThreshold, 'b.', markersize=10)\n",
    "plt.plot(testError_perfectThreshold, 'r.', markersize=10)\n",
    "plt.title('test error as a function of signal dimension')\n",
    "plt.yscale('log');\n",
    "if doHomPDSaveFig:\n",
    "    plt.savefig('test-error-as-a-function-of-signal-dimension.svg')"
   ]
  },
  {
   "cell_type": "code",
   "execution_count": 12,
   "metadata": {
    "collapsed": true
   },
   "outputs": [],
   "source": [
    "if doHomPDSaveText:\n",
    "    curDT = dt.now()\n",
    "    np.savetxt('testError_perfectThreshold-dim-equals-pow_10_k-k_in_range_1_'+str(kmax)+'--'+curDT.ctime()+'.txt', testError_perfectThreshold)\n",
    "    np.savetxt('testError_dimensionThreshold-dim-equals-pow_10_k-k_in_range_1_'+str(kmax)+'--'+curDT.ctime()+'.txt', testError_dimensionThreshold)"
   ]
  },
  {
   "cell_type": "markdown",
   "metadata": {},
   "source": [
    "Note possible scaling is $n^{1/3} \\log (n)$ where $n$ is the dimension of $x$. "
   ]
  },
  {
   "cell_type": "markdown",
   "metadata": {},
   "source": [
    "# Approximate Message Passing algorithm"
   ]
  },
  {
   "cell_type": "code",
   "execution_count": null,
   "metadata": {
    "collapsed": false
   },
   "outputs": [],
   "source": [
    "def AMP(y, A, **kwargs):\n",
    "    import numpy as np\n",
    "    x0 = kwargs.get('x0', np.zeros((A.shape[1],1)))\n",
    "    funObj = kwargs.get('funObj', softhr)\n",
    "    optTol = kwargs.get('optTol', 1e-4)\n",
    "    maxIter = kwargs.get('maxIter', 500)\n",
    "    lam = kwargs.get('lam', .1)\n",
    "    \n",
    "    xt = x0\n",
    "    zt = y.copy()\n",
    "    delta = A.shape[0]/A.shape[1] # aspect\n",
    "    nIter = 1\n",
    "    \n",
    "    while True:\n",
    "        x, g = funObj(np.dot(A.T, zt) + xt, lam)\n",
    "        z = y - np.dot(A,x) + zt*np.mean(g)/delta\n",
    "        \n",
    "        optCond = abs(x-xt).max()\n",
    "        if optCond < optTol:\n",
    "            print('Optimality tolerance satisfied after %d iterations' % nIter)\n",
    "            return x, z\n",
    "        elif nIter > maxIter:\n",
    "            print('Maximum number of iterations reached')\n",
    "            return x\n",
    "        else:\n",
    "            nIter += 1\n",
    "            xt = x\n",
    "            zt = z\n",
    "    return x, z"
   ]
  },
  {
   "cell_type": "code",
   "execution_count": null,
   "metadata": {
    "collapsed": true
   },
   "outputs": [],
   "source": [
    "N = 10000\n",
    "s = 2\n",
    "n = 100\n",
    "eta = .01\n",
    "x = np.array([[1e3 for _ in range(s)] + [0 for _ in range(N-s)]]).T"
   ]
  },
  {
   "cell_type": "code",
   "execution_count": null,
   "metadata": {
    "collapsed": true
   },
   "outputs": [],
   "source": [
    "A = np.random.randn(n,N)/np.sqrt(n)\n",
    "z = np.random.randn(n,1)"
   ]
  },
  {
   "cell_type": "code",
   "execution_count": null,
   "metadata": {
    "collapsed": true
   },
   "outputs": [],
   "source": [
    "y = np.dot(A,x) + eta*z"
   ]
  },
  {
   "cell_type": "code",
   "execution_count": null,
   "metadata": {
    "collapsed": false
   },
   "outputs": [],
   "source": [
    "print('norm(x) = %5.4g\\nnorm(y) = %5.4g' % (np.linalg.norm(x), np.linalg.norm(y)))"
   ]
  },
  {
   "cell_type": "code",
   "execution_count": null,
   "metadata": {
    "collapsed": false
   },
   "outputs": [],
   "source": [
    "%%prun\n",
    "xstar, zstar = AMP(y,A, lam=400, maxIter=500)"
   ]
  },
  {
   "cell_type": "code",
   "execution_count": null,
   "metadata": {
    "collapsed": false
   },
   "outputs": [],
   "source": [
    "(x-xstar).var()"
   ]
  },
  {
   "cell_type": "markdown",
   "metadata": {},
   "source": [
    "# SPGL1"
   ]
  },
  {
   "cell_type": "code",
   "execution_count": 14,
   "metadata": {
    "collapsed": false
   },
   "outputs": [],
   "source": [
    "sys.path.append('/Users/berkas/Dropbox/school/phd/research/code/SPGL1_python_port/')"
   ]
  },
  {
   "cell_type": "code",
   "execution_count": 24,
   "metadata": {
    "collapsed": true
   },
   "outputs": [],
   "source": [
    "from spgl1 import spgl1\n",
    "from spgl1 import spgSetParms"
   ]
  },
  {
   "cell_type": "code",
   "execution_count": 129,
   "metadata": {
    "collapsed": true
   },
   "outputs": [],
   "source": [
    "import json, codecs"
   ]
  },
  {
   "cell_type": "code",
   "execution_count": 96,
   "metadata": {
    "collapsed": false
   },
   "outputs": [],
   "source": [
    "def pdmse_1(N, theta=None, **kwargs):\n",
    "    s = 1\n",
    "    eta = kwargs.get('eta', 1)\n",
    "    x = np.array([N for _ in range(s)] + [0 for _ in range(N-s)])\n",
    "    z = np.random.randn(N)\n",
    "    if theta is None:\n",
    "        theta = np.sqrt(N)\n",
    "    elif theta is 'sqNormZ':\n",
    "        theta = np.linalg.norm(z)\n",
    "    elif isinstance(theta, 'str'):\n",
    "        raise ValueError('theta must be numeric or equal to \\'sqNormZ\\'.')\n",
    "    y = x + eta*z\n",
    "    A = np.eye(N)\n",
    "    xstar, r, g, info = spgl1(A, y, sigma=theta)\n",
    "    h = x - xstar\n",
    "    return np.dot(h,h)\n",
    "\n",
    "def pdmse(N, theta=None, **kwargs):\n",
    "    iters = kwargs.pop('iters', 10)\n",
    "    return np.mean([pdmse_1(N, theta, **kwargs) for _ in range(iters)])\n",
    "\n",
    "def pdmse_batch(logNmax=5, theta=None, **kwargs):\n",
    "    outerIters = kwargs.pop('outerIters', 100)\n",
    "    Nvec = [10**j for j in range(1, logNmax+1)]\n",
    "    retmat = np.zeros((logNmax, outerIters))\n",
    "    for i,N in enumerate(Nvec):\n",
    "        for j in range(outerIters):\n",
    "            retmat[i,j] = pdmse(N, theta, **kwargs)\n",
    "    return retmat"
   ]
  },
  {
   "cell_type": "code",
   "execution_count": 140,
   "metadata": {
    "collapsed": false
   },
   "outputs": [],
   "source": [
    "def jsonWriteDict(filename, obj):\n",
    "    import json, codecs\n",
    "    for key, value in obj.items():\n",
    "        if isinstance(obj[key], np.ndarray):\n",
    "            obj[key] = value.tolist()\n",
    "    try:\n",
    "        with codecs.open(filename, 'w', encoding='utf-8') as fp:\n",
    "            json.dump(obj, fp, separators=(',', ':'), indent=4, sort_keys=True)\n",
    "    except Exception as e:\n",
    "        print(e)\n",
    "        print(\"Unexpected error:\", sys.exc_info()[0])\n",
    "        raise"
   ]
  },
  {
   "cell_type": "code",
   "execution_count": 120,
   "metadata": {
    "collapsed": false
   },
   "outputs": [],
   "source": [
    "pdmse_mat = {'N': pdmse_batch(2), \n",
    "             'sqNormZ': pdmse_batch(2, theta='sqNormZ')}"
   ]
  },
  {
   "cell_type": "code",
   "execution_count": 141,
   "metadata": {
    "collapsed": false
   },
   "outputs": [],
   "source": [
    "jsonWriteDict('test_json.json', pdmse_mat)"
   ]
  },
  {
   "cell_type": "code",
   "execution_count": 115,
   "metadata": {
    "collapsed": false,
    "scrolled": true
   },
   "outputs": [
    {
     "data": {
      "image/png": "[encoded data removed]",
      "text/plain": [
       "<matplotlib.figure.Figure at 0x10c6bfcc0>"
      ]
     },
     "metadata": {},
     "output_type": "display_data"
    }
   ],
   "source": [
    "plt.hist(np.vstack((pdmse_mat_N, pdmse_mat_zsq)).T, stacked=False);"
   ]
  }
 ],
 "metadata": {
  "kernelspec": {
   "display_name": "Python 3",
   "language": "python",
   "name": "python3"
  },
  "language_info": {
   "codemirror_mode": {
    "name": "ipython",
    "version": 3
   },
   "file_extension": ".py",
   "mimetype": "text/x-python",
   "name": "python",
   "nbconvert_exporter": "python",
   "pygments_lexer": "ipython3",
   "version": "3.5.2"
  },
  "toc": {
   "nav_menu": {
    "height": "30px",
    "width": "252px"
   },
   "navigate_menu": true,
   "number_sections": true,
   "sideBar": true,
   "threshold": 4,
   "toc_cell": true,
   "toc_section_display": "block",
   "toc_window_display": false
  }
 },
 "nbformat": 4,
 "nbformat_minor": 1
}
