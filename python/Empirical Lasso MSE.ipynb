{
 "cells": [
  {
   "cell_type": "markdown",
   "metadata": {
    "toc": "true"
   },
   "source": [
    "# Table of Contents\n",
    " <p><div class=\"lev1 toc-item\"><a href=\"#Import-spgl1-package\" data-toc-modified-id=\"Import-spgl1-package-1\"><span class=\"toc-item-num\">1&nbsp;&nbsp;</span>Import <code>spgl1</code> package</a></div><div class=\"lev1 toc-item\"><a href=\"#Import-other-packages\" data-toc-modified-id=\"Import-other-packages-2\"><span class=\"toc-item-num\">2&nbsp;&nbsp;</span>Import other packages</a></div><div class=\"lev1 toc-item\"><a href=\"#MSE-as-a-function-of-sigma\" data-toc-modified-id=\"MSE-as-a-function-of-sigma-3\"><span class=\"toc-item-num\">3&nbsp;&nbsp;</span>MSE as a function of <code>sigma</code></a></div>"
   ]
  },
  {
   "cell_type": "markdown",
   "metadata": {},
   "source": [
    "# Import `spgl1` package"
   ]
  },
  {
   "cell_type": "code",
   "execution_count": 1,
   "metadata": {
    "collapsed": true
   },
   "outputs": [],
   "source": [
    "import sys"
   ]
  },
  {
   "cell_type": "code",
   "execution_count": 2,
   "metadata": {
    "collapsed": false
   },
   "outputs": [],
   "source": [
    "curdir = !pwd\n",
    "curdir = curdir[0]"
   ]
  },
  {
   "cell_type": "code",
   "execution_count": 3,
   "metadata": {
    "collapsed": false
   },
   "outputs": [],
   "source": [
    "spgl1Directory = curdir+'/../SPGL1_python_port/'\n",
    "sys.path.append(spgl1Directory)"
   ]
  },
  {
   "cell_type": "code",
   "execution_count": 4,
   "metadata": {
    "collapsed": false
   },
   "outputs": [],
   "source": [
    "from spgl1 import spgl1"
   ]
  },
  {
   "cell_type": "markdown",
   "metadata": {},
   "source": [
    "# Import other packages"
   ]
  },
  {
   "cell_type": "code",
   "execution_count": 5,
   "metadata": {
    "collapsed": true
   },
   "outputs": [],
   "source": [
    "import numpy as np"
   ]
  },
  {
   "cell_type": "code",
   "execution_count": 6,
   "metadata": {
    "collapsed": true
   },
   "outputs": [],
   "source": [
    "import matplotlib.pyplot as plot\n",
    "%matplotlib inline"
   ]
  },
  {
   "cell_type": "markdown",
   "metadata": {},
   "source": [
    "# MSE as a function of `sigma`"
   ]
  },
  {
   "cell_type": "code",
   "execution_count": 14,
   "metadata": {
    "collapsed": true
   },
   "outputs": [],
   "source": [
    "def parseData(**data):\n",
    "    N = data.get('N')\n",
    "    s = data.get('s')\n",
    "    A = data.get('A')\n",
    "    x = data.get('x')\n",
    "    y = data.get('y')\n",
    "    z = data.get('z')\n",
    "    a = data.get('a')\n",
    "    if x is None:\n",
    "        if a is None:\n",
    "            a = 1e6\n",
    "        if s is None:\n",
    "            s = 3\n",
    "    if N is None:\n",
    "        if A is None:\n",
    "            proxD = True\n",
    "            N = x.size\n",
    "            m = N\n",
    "        else:\n",
    "            proxD = False\n",
    "            m, N = A.shape\n",
    "    elif m is None:\n",
    "        if A is None:\n",
    "            proxD = True\n",
    "            m = N\n",
    "        else:\n",
    "            proxD = False\n",
    "            m = A.shape[0]\n",
    "    elif m < N:\n",
    "        proxD = False\n",
    "        A = np.random.randn(m,N)/np.sqrt(m)\n",
    "    else:\n",
    "        raise ValueError('We don\\'t want to handle this case')\n",
    "    if x is None:\n",
    "        x = np.array([a for _ in range(s)] + \n",
    "                     [0 for _ in range(N-s)])\n",
    "    if z is None:\n",
    "        z = np.random.randn(m)\n",
    "    if y is None:\n",
    "        if proxD:\n",
    "            y = x + eta * z\n",
    "        else:\n",
    "            y = np.dot(A,x) + eta * z\n",
    "    return N, s, A, x, y, z, a"
   ]
  },
  {
   "cell_type": "code",
   "execution_count": null,
   "metadata": {
    "collapsed": true
   },
   "outputs": [],
   "source": [
    "def mse(sigma,eta=0.1,**data):\n",
    "    N, s, A, x, y, z, a = parseData(**data)\n",
    "    try:\n",
    "        len_sigma = len(sigma)\n",
    "    except TypeError as te:\n",
    "        len_sigma = 1"
   ]
  },
  {
   "cell_type": "code",
   "execution_count": null,
   "metadata": {
    "collapsed": true
   },
   "outputs": [],
   "source": []
  }
 ],
 "metadata": {
  "kernelspec": {
   "display_name": "Python 3",
   "language": "python",
   "name": "python3"
  },
  "language_info": {
   "codemirror_mode": {
    "name": "ipython",
    "version": 3
   },
   "file_extension": ".py",
   "mimetype": "text/x-python",
   "name": "python",
   "nbconvert_exporter": "python",
   "pygments_lexer": "ipython3",
   "version": "3.5.2"
  },
  "toc": {
   "nav_menu": {
    "height": "12px",
    "width": "252px"
   },
   "navigate_menu": true,
   "number_sections": true,
   "sideBar": true,
   "threshold": 4,
   "toc_cell": true,
   "toc_section_display": "block",
   "toc_window_display": false
  }
 },
 "nbformat": 4,
 "nbformat_minor": 1
}
